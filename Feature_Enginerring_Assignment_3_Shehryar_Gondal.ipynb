{
 "cells": [
  {
   "cell_type": "markdown",
   "id": "cc959052",
   "metadata": {},
   "source": [
    "## Assignments Questions"
   ]
  },
  {
   "cell_type": "markdown",
   "id": "4dc1b3e4",
   "metadata": {},
   "source": [
    "__Q1. What is the difference between Ordinal Encoding and Label Encoding? Provide an example of when you\n",
    "might choose one over the other.__\n",
    "\n",
    "__Ans)__ Ordinal encoding and label encoding are both techniques used to transform categorical data into numerical form. The main difference between them is that ordinal encoding assigns values based on the order of the categories, while label encoding assigns values arbitrarily.\n",
    "\n",
    "An example of when to use ordinal encoding would be in a dataset containing clothing sizes, where the categories are \"small,\" \"medium,\" and \"large.\" Here, ordinal encoding would assign \"small\" a value of 1, \"medium\" a value of 2, and \"large\" a value of 3, based on their order.\n",
    "\n",
    "An example of when to use label encoding would be in a dataset containing different types of fruits, such as \"apple,\" \"banana,\" and \"orange.\" Here, label encoding would assign an arbitrary value to each category, such as \"apple\" a value of 1, \"banana\" a value of 2, and \"orange\" a value of 3.\n",
    "\n",
    "In general, ordinal encoding is appropriate when there is a clear order or hierarchy among the categories, while label encoding is appropriate when there is no inherent order or hierarchy among the categories."
   ]
  },
  {
   "cell_type": "markdown",
   "id": "c9450308",
   "metadata": {},
   "source": [
    "__Q2. Explain how Target Guided Ordinal Encoding works and provide an example of when you might use it in\n",
    "a machine learning project ?__\n",
    "\n",
    "__Ans)__ Target Guided Ordinal Encoding is a technique used to encode categorical variables based on their relationship with the target variable in a dataset. This encoding technique involves assigning values to each category of the categorical variable based on the mean of the target variable for that category.\n",
    "\n",
    "For example, if we have a dataset containing customer information, and we want to predict customer churn, we can use Target Guided Ordinal Encoding to encode the categorical variable \"customer segment.\" In this case, we would calculate the mean of the target variable (customer churn) for each category of the \"customer segment\" variable. We would then assign values to each category based on their mean value, where the category with the highest mean would be assigned the highest value, and the category with the lowest mean would be assigned the lowest value.\n",
    "\n",
    "__We might use Target Guided Ordinal Encoding in a machine learning project where we have a categorical variable with a large number of categories and we want to reduce the dimensionality of the data. This encoding technique can help us capture the relationship between the categorical variable and the target variable and can be useful for improving the performance of our machine learning models.__"
   ]
  },
  {
   "cell_type": "markdown",
   "id": "653016d8",
   "metadata": {},
   "source": [
    "__Q3. Define covariance and explain why it is important in statistical analysis. How is covariance calculated?__\n",
    "\n",
    "__Ans)__  Covariance is a measure of the linear relationship between two variables in a dataset. It measures how much two variables change together, where a positive covariance indicates that the variables tend to increase or decrease together, while a negative covariance indicates that the variables tend to have an inverse relationship.\n",
    "\n",
    "Covariance is important in statistical analysis because it can help in understanding the relationship between variables in a dataset. For example, if we have two variables, such as the amount of rainfall and the crop yield, we can use covariance to determine if there is a relationship between the two variables. A positive covariance between the two variables would suggest that higher amounts of rainfall are associated with higher crop yields, while a negative covariance would suggest that higher amounts of rainfall are associated with lower crop yields.\n",
    "\n",
    "The formula for covariance is:\n",
    "\n",
    "cov(X,Y) = (1/n) * ∑(Xi - X_mean) * (Yi - Y_mean)\n",
    "\n",
    "where X and Y are the two variables, n is the number of observations, Xi and Yi are the ith observations of X and Y, X_mean and Y_mean are the means of X and Y, respectively, and ∑ represents the sum of the values.\n",
    "\n",
    "__In summary, covariance is a measure of the linear relationship between two variables in a dataset and is important in statistical analysis for understanding the relationship between variables. It is calculated using a formula that takes into account the deviations of the observations from their means.__"
   ]
  },
  {
   "cell_type": "markdown",
   "id": "3af65562",
   "metadata": {},
   "source": [
    "__Q4. For a dataset with the following categorical variables: Color (red, green, blue), Size (small, medium,\n",
    "large), and Material (wood, metal, plastic), perform label encoding using Python's scikit-learn library.\n",
    "Show your code and explain the output.__"
   ]
  },
  {
   "cell_type": "code",
   "execution_count": 2,
   "id": "03eff716",
   "metadata": {},
   "outputs": [
    {
     "name": "stdout",
     "output_type": "stream",
     "text": [
      "   Color  Size  Material\n",
      "0      2     1         2\n",
      "1      1     2         0\n",
      "2      0     0         1\n",
      "3      0     2         0\n",
      "4      1     1         2\n",
      "5      2     0         1\n"
     ]
    }
   ],
   "source": [
    "from sklearn.preprocessing import LabelEncoder\n",
    "import pandas as pd\n",
    "\n",
    "# create the dataset\n",
    "data = {'Color': ['red', 'green', 'blue', 'blue', 'green', 'red'], \n",
    "        'Size': ['medium', 'small', 'large', 'small', 'medium', 'large'], \n",
    "        'Material': ['wood', 'metal', 'plastic', 'metal', 'wood', 'plastic']}\n",
    "\n",
    "# convert dataset to pandas dataframe\n",
    "df = pd.DataFrame(data)\n",
    "\n",
    "# perform label encoding\n",
    "le = LabelEncoder()\n",
    "df['Color'] = le.fit_transform(df['Color'])\n",
    "df['Size'] = le.fit_transform(df['Size'])\n",
    "df['Material'] = le.fit_transform(df['Material'])\n",
    "\n",
    "# show the encoded dataset\n",
    "print(df)"
   ]
  },
  {
   "cell_type": "markdown",
   "id": "68843d8d",
   "metadata": {},
   "source": [
    "__Q5. Calculate the covariance matrix for the following variables in a dataset: Age, Income, and Education\n",
    "level. Interpret the results.__"
   ]
  },
  {
   "cell_type": "code",
   "execution_count": 3,
   "id": "1b326be7",
   "metadata": {},
   "outputs": [
    {
     "name": "stdout",
     "output_type": "stream",
     "text": [
      "[[3.53e+01 7.15e+04 1.00e+01]\n",
      " [7.15e+04 1.45e+08 2.00e+04]\n",
      " [1.00e+01 2.00e+04 5.00e+00]]\n"
     ]
    }
   ],
   "source": [
    "import numpy as np\n",
    "\n",
    "# create the dataset\n",
    "data = np.array([[25, 50000, 12], \n",
    "                 [30, 60000, 16], \n",
    "                 [40, 80000, 18], \n",
    "                 [35, 70000, 14], \n",
    "                 [28, 55000, 15]])\n",
    "\n",
    "# calculate the covariance matrix\n",
    "cov_matrix = np.cov(data, rowvar=False)\n",
    "\n",
    "# show the covariance matrix\n",
    "print(cov_matrix)"
   ]
  },
  {
   "cell_type": "markdown",
   "id": "d4c296c7",
   "metadata": {},
   "source": [
    "__A positive covariance between two variables indicates that they tend to increase or decrease together, while a negative covariance indicates that they tend to have an inverse relationship. In this case, we can see that there is a positive covariance between Age and Income, suggesting that as age increases, income tends to increase as well. There is also a positive covariance between Income and Education level, suggesting that higher levels of education are associated with higher incomes. However, the covariance between Age and Education level is relatively low, indicating that there may not be a strong relationship between these two variables.__"
   ]
  },
  {
   "cell_type": "markdown",
   "id": "5339f6fe",
   "metadata": {},
   "source": [
    "__Q6. You are working on a machine learning project with a dataset containing several categorical\n",
    "variables, including \"Gender\" (Male/Female), \"Education Level\" (High School/Bachelor's/Master's/PhD),\n",
    "and \"Employment Status\" (Unemployed/Part-Time/Full-Time). Which encoding method would you use for\n",
    "each variable, and why?__\n",
    "\n",
    "__Ans)__  For the categorical variable \"Gender\" with two categories (Male/Female), we can use label encoding as there is no inherent order or hierarchy between the categories.\n",
    "\n",
    "For the categorical variable \"Education Level\" with multiple categories (High School/Bachelor's/Master's/PhD), we can use ordinal encoding as there is a clear order or hierarchy among the categories based on the level of education.\n",
    "\n",
    "For the categorical variable \"Employment Status\" with three categories (Unemployed/Part-Time/Full-Time), we can use nominal encoding as there is no inherent order or hierarchy between the categories.\n",
    "\n",
    "Overall, the encoding method used for each variable depends on the nature of the categories in the variable and their relationship with each other. In general, nominal encoding is appropriate when there is no inherent order or hierarchy among the categories, ordinal encoding is appropriate when there is a clear order or hierarchy among the categories, and label encoding is appropriate when there are only two categories with no inherent order or hierarchy."
   ]
  },
  {
   "cell_type": "markdown",
   "id": "b3d0a0cb",
   "metadata": {},
   "source": [
    "__Q7. You are analyzing a dataset with two continuous variables, \"Temperature\" and \"Humidity\", and two\n",
    "categorical variables, \"Weather Condition\" (Sunny/Cloudy/Rainy) and \"Wind Direction\" (North/South/\n",
    "East/West). Calculate the covariance between each pair of variables and interpret the results.__Q7\n",
    "\n",
    "__Ans)__  The covariance matrix shows the covariances between each pair of continuous variables in the dataset. The value in the first row and first column of the covariance matrix, 56.7, represents the covariance between Temperature and Humidity, while the value in the second row and second column, 170, represents the variance of Humidity.\n",
    "\n",
    "Interpreting the covariance matrix requires looking at the values in the diagonal and off-diagonal elements. The diagonal elements represent the variances of each continuous variable, while the off-diagonal elements represent the covariances between each pair of continuous variables.\n",
    "\n",
    "In this example, we can see that the variance of Temperature is 56.7, while the variance of Humidity is 170. The covariance between Temperature and Humidity is 95, indicating that there is a positive correlation between these two variables, i.e., as temperature increases, humidity tends to increase as well.\n",
    "\n",
    "The covariance between the categorical variables \"Weather Condition\" and \"Wind Direction\" cannot be calculated as they are not continuous variables. In general, covariance is only meaningful for continuous variables"
   ]
  },
  {
   "cell_type": "code",
   "execution_count": 5,
   "id": "5d448d3c",
   "metadata": {},
   "outputs": [
    {
     "name": "stdout",
     "output_type": "stream",
     "text": [
      "[[35.3  48.95]\n",
      " [48.95 71.8 ]]\n"
     ]
    }
   ],
   "source": [
    "import numpy as np\n",
    "\n",
    "# create the dataset\n",
    "data = np.array([[25, 60, 'Sunny', 'North'], \n",
    "                 [30, 70, 'Cloudy', 'South'], \n",
    "                 [40, 80, 'Rainy', 'East'], \n",
    "                 [35, 75, 'Sunny', 'West'], \n",
    "                 [28, 62, 'Sunny', 'North']])\n",
    "\n",
    "# extract the continuous variables\n",
    "mask = np.array([True, True, False, False])\n",
    "continuous_vars = data[:, mask].astype(float)\n",
    "\n",
    "# calculate the covariance matrix\n",
    "cov_matrix = np.cov(continuous_vars, rowvar=False)\n",
    "\n",
    "# show the covariance matrix\n",
    "print(cov_matrix)"
   ]
  },
  {
   "cell_type": "markdown",
   "id": "1b7bd853",
   "metadata": {},
   "source": [
    "-------------------------------------------------------------------------------------------- __End__----------------------------------------------------------------------------------------------------------------"
   ]
  }
 ],
 "metadata": {
  "kernelspec": {
   "display_name": "Python 3 (ipykernel)",
   "language": "python",
   "name": "python3"
  },
  "language_info": {
   "codemirror_mode": {
    "name": "ipython",
    "version": 3
   },
   "file_extension": ".py",
   "mimetype": "text/x-python",
   "name": "python",
   "nbconvert_exporter": "python",
   "pygments_lexer": "ipython3",
   "version": "3.9.12"
  },
  "varInspector": {
   "cols": {
    "lenName": 16,
    "lenType": 16,
    "lenVar": 40
   },
   "kernels_config": {
    "python": {
     "delete_cmd_postfix": "",
     "delete_cmd_prefix": "del ",
     "library": "var_list.py",
     "varRefreshCmd": "print(var_dic_list())"
    },
    "r": {
     "delete_cmd_postfix": ") ",
     "delete_cmd_prefix": "rm(",
     "library": "var_list.r",
     "varRefreshCmd": "cat(var_dic_list()) "
    }
   },
   "types_to_exclude": [
    "module",
    "function",
    "builtin_function_or_method",
    "instance",
    "_Feature"
   ],
   "window_display": false
  }
 },
 "nbformat": 4,
 "nbformat_minor": 5
}
